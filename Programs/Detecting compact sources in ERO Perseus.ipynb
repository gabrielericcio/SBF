{
 "cells": [
  {
   "cell_type": "markdown",
   "id": "92ea7b3a",
   "metadata": {},
   "source": [
    "The aim here is to remove the light of large, extended objects and detect faint objects underneath. Then I measure the shape parameters and magnitudes of the sources. A fits catalogue of all compact sources is then saved. "
   ]
  },
  {
   "cell_type": "code",
   "execution_count": 1,
   "id": "b8fe300a",
   "metadata": {},
   "outputs": [],
   "source": [
    "import numpy as np\n",
    "from matplotlib import pyplot as plt\n",
    "from matplotlib.colors import SymLogNorm\n",
    "from scipy.ndimage import median_filter, gaussian_filter, generic_filter\n",
    "from functools import partial\n",
    "\n",
    "from astropy.io import fits\n",
    "from astropy.stats import sigma_clipped_stats\n",
    "from astropy.visualization import SqrtStretch\n",
    "from astropy.visualization.mpl_normalize import ImageNormalize\n",
    "from astropy.table import Table, vstack\n",
    "from astropy import units as u\n",
    "from astropy import wcs\n",
    "\n",
    "#These use photutils version 1.9 or above\n",
    "from photutils.centroids import centroid_com\n",
    "from photutils.segmentation import detect_sources, deblend_sources, SourceCatalog\n",
    "from photutils.aperture import CircularAperture, CircularAnnulus\n",
    "from photutils.detection import DAOStarFinder, find_peaks\n",
    "from photutils.background import Background2D, MedianBackground"
   ]
  },
  {
   "cell_type": "code",
   "execution_count": 2,
   "id": "943ad98d",
   "metadata": {},
   "outputs": [],
   "source": [
    "# This program takes:\n",
    "# image data (data), \n",
    "# a table which must include 2 columns: table['xcentroid'], table['ycentroid'], which are the x and y coordinates of the detections in the wcs_cat image, \n",
    "# aperture - which is the radius of the aperture you wish to measure your flux (in pixels with pixel scale from wcs_cat image)\n",
    "# zp - zeropoint of data\n",
    "# string - string to identify flux measurement in the output table\n",
    "\n",
    "# The program outputs table with 2 additional columns - the background subtracted flux and magnitude in the aperture.\n",
    "\n",
    "def measure_flux_bkgsub(data, table, aperture, inner_annulus, outer_annulus, zp,string):\n",
    "    from astropy.stats import SigmaClip\n",
    "    from photutils.aperture import ApertureStats\n",
    "    from photutils.aperture import CircularAperture, CircularAnnulus\n",
    "    \n",
    "    positions = np.transpose((table['xcentroid'], table['ycentroid']))\n",
    "     #defines the position that we measure flux\n",
    "    \n",
    "    aperture = CircularAperture(positions, r=aperture)\n",
    "     # defines the circular apertures to measure flux. These are in pixel coordinates\n",
    "    \n",
    "    annulus_aperture = CircularAnnulus(positions, r_in=inner_annulus, r_out=outer_annulus)\n",
    "     # defines the circular annulus to measure background flux. These are in pixel coordinates\n",
    "   \n",
    "    aper_stats = ApertureStats(data, aperture, sigma_clip=None)\n",
    "     #calculate statistics of data (i.e. total flux) within pixel aperture. \n",
    "    \n",
    "    sigclip = SigmaClip(sigma=3.0, maxiters=10)    \n",
    "    bkg_stats = ApertureStats(data, annulus_aperture, sigma_clip=sigclip)\n",
    "    #calculate statistics of data (i.e. total flux) within pixel-defined annulus. Remove some pixel data using sigma clipping\n",
    "    \n",
    "    total_bkg = bkg_stats.median * aper_stats.sum_aper_area.value\n",
    "     # Calculate the background in the aperature as the median of the flux in the annulus * area of the aperture\n",
    "    \n",
    "    apersum_bkgsub = aper_stats.sum - total_bkg\n",
    "    # Calculate the background subtracted aperature flux as the total flux in the aperture - total_bkg (measured above)\n",
    "    \n",
    "    \n",
    "    table['total_flux_'+string] = aper_stats.sum\n",
    "    table['bkg_'+string] = total_bkg\n",
    "    table['flux_bkgsub_'+string] = apersum_bkgsub\n",
    "    below_level=(apersum_bkgsub < 0)\n",
    "    table['mag_'+string]=zp-2.5*np.log10(apersum_bkgsub)\n",
    "    table['mag_'+string][below_level]=-99\n",
    "    return table"
   ]
  },
  {
   "cell_type": "code",
   "execution_count": 3,
   "id": "80bd6f99",
   "metadata": {},
   "outputs": [],
   "source": [
    "# This program takes:\n",
    "#radius in pixels\n",
    "# outputs a circular footprint of a given radius \n",
    "def footprint_circle(radius):\n",
    "    footprint = np.zeros((2*radius+1, 2*radius+1))\n",
    "    y, x = np.ogrid[-radius:radius+1, -radius:radius+1]\n",
    "    footprint[x**2 + y**2 <= radius**2] = 1 \n",
    "    return footprint"
   ]
  },
  {
   "cell_type": "code",
   "execution_count": 4,
   "id": "bb7aee26",
   "metadata": {},
   "outputs": [],
   "source": [
    "# This program takes:\n",
    "#radius in pixels\n",
    "# outputs a circular footprint of a given radius \n",
    "def footprint_ring(radiusin, radiusout):\n",
    "    footprint = np.zeros((2*radiusout+1, 2*radiusout+1))\n",
    "    y, x = np.ogrid[-radiusout:radiusout+1, -radiusout:radiusout+1]\n",
    "    footprint[x**2 + y**2 <= radiusout**2] = 1 \n",
    "    footprint[x**2 + y**2 <= radiusin**2] = 0 \n",
    "    return footprint"
   ]
  },
  {
   "cell_type": "markdown",
   "id": "cc2dd975",
   "metadata": {},
   "source": [
    "Using ERO Euclid image. Need to read it in twice."
   ]
  },
  {
   "cell_type": "code",
   "execution_count": 5,
   "id": "ff4f60ac",
   "metadata": {},
   "outputs": [],
   "source": [
    "hdul = fits.open('Euclid-VIS-ERO-Perseus-LSB.v9.fits', memmap=True)\n",
    "img = hdul[0].data\n",
    "header = hdul[0].header\n",
    "WCS_v7 = wcs.WCS(hdul[0].header)\n",
    "hdul_o = fits.open('Euclid-VIS-ERO-Perseus-LSB.v9.fits', memmap=True)\n",
    "img_original = hdul_o[0].data"
   ]
  },
  {
   "cell_type": "markdown",
   "id": "3c901e31",
   "metadata": {},
   "source": [
    "I filter the image. I create another arrary of the same size as img. For every point, I measure the median of img within a circular footprint of 20 pixel radius. \n",
    "Then I subtract this median from the image. This image is used the measure the shape parameters and fluxes. The size of 20 should be large enough to leave the shape of the compact sources intact in the filtered image."
   ]
  },
  {
   "cell_type": "code",
   "execution_count": 6,
   "id": "2e019dde",
   "metadata": {},
   "outputs": [
    {
     "name": "stdout",
     "output_type": "stream",
     "text": [
      "CPU times: user 2min 53s, sys: 6.67 s, total: 3min\n",
      "Wall time: 3min 13s\n"
     ]
    }
   ],
   "source": [
    "%time medfilt = median_filter(img, footprint=footprint_circle(20), mode='nearest')\n",
    "img20 = hdul[0].data-medfilt\n",
    "filtered_file='VISv9_20.fits'\n",
    "fits.PrimaryHDU(data=img20.astype(np.single), header=header).writeto(filtered_file, overwrite=True) \n",
    "filtered_file='VISv9_median_20.fits'\n",
    "fits.PrimaryHDU(data=medfilt.astype(np.single), header=header).writeto(filtered_file, overwrite=True) \n",
    "#files are saved so you don't need to run this step multiple times\n",
    "\n",
    "flat=img20"
   ]
  },
  {
   "cell_type": "markdown",
   "id": "dcdc6ef7",
   "metadata": {},
   "source": [
    "I filter the image again. I create another arrary of the same size as img. For every point, I measure the median of img within a ring footprint of inner = 2 and outer=4 pixels. \n",
    "Then I subtract this median from the image. This image is used to detect the sources. \n",
    "The inner radius must be approximately the size of the objects you wish to isolate, i.e. GCs. "
   ]
  },
  {
   "cell_type": "code",
   "execution_count": 7,
   "id": "950e2d2b",
   "metadata": {},
   "outputs": [
    {
     "name": "stdout",
     "output_type": "stream",
     "text": [
      "CPU times: user 7min 58s, sys: 8.82 s, total: 8min 7s\n",
      "Wall time: 8min 22s\n"
     ]
    }
   ],
   "source": [
    "%time medfilt = median_filter(img, footprint=footprint_ring(2,4), mode='nearest')\n",
    "img -= medfilt\n",
    "filtered_file='VISv9_median_ring24.fits'\n",
    "fits.PrimaryHDU(data=medfilt.astype(np.single), header=header).writeto(filtered_file, overwrite=True) \n",
    "\n",
    "filtered_file='VISv9_ring24.fits'\n",
    "fits.PrimaryHDU(data=img.astype(np.single), header=header).writeto(filtered_file, overwrite=True) \n",
    "\n",
    "filtered_data=img"
   ]
  },
  {
   "cell_type": "markdown",
   "id": "e82265c2",
   "metadata": {},
   "source": [
    "Now detect stellar sources using source detection"
   ]
  },
  {
   "cell_type": "code",
   "execution_count": 8,
   "id": "484909dc",
   "metadata": {},
   "outputs": [],
   "source": [
    "#parameters for detection\n",
    "bkg_estimator = MedianBackground()\n",
    "threshold_limit=3 \n",
    "connected_pixels=3"
   ]
  },
  {
   "cell_type": "markdown",
   "id": "8ea83ea9",
   "metadata": {},
   "source": [
    "Below I have a loop and I have to divide the image into 4 because the ERO data is too large. For smaller images, including NISP data, I don't need this loop so you can probably remove it"
   ]
  },
  {
   "cell_type": "code",
   "execution_count": 9,
   "id": "a20a8355",
   "metadata": {},
   "outputs": [],
   "source": [
    "#make cutouts of the original file\n",
    "#This is needed because the original image is too large for my computer.\n",
    "cut_x=[0,21001,0,21001]\n",
    "cut_x2=[21100,42000,21100,42000]\n",
    "cut_y=[0,0,21001,21001]\n",
    "cut_y2=[21100,21100,42000,42000]"
   ]
  },
  {
   "cell_type": "code",
   "execution_count": 13,
   "id": "e5ab7422",
   "metadata": {},
   "outputs": [
    {
     "name": "stderr",
     "output_type": "stream",
     "text": [
      "WARNING: Input data contains invalid values (NaNs or infs), which were automatically masked. [photutils.background.background_2d]\n",
      "WARNING: Input data contains invalid values (NaNs or infs), which were automatically masked. [photutils.background.background_2d]\n"
     ]
    },
    {
     "name": "stdout",
     "output_type": "stream",
     "text": [
      "173983\n"
     ]
    },
    {
     "name": "stderr",
     "output_type": "stream",
     "text": [
      "WARNING: Input data contains invalid values (NaNs or infs), which were automatically masked. [photutils.background.background_2d]\n",
      "WARNING: Input data contains invalid values (NaNs or infs), which were automatically masked. [photutils.background.background_2d]\n",
      "WARNING: MergeConflictWarning: Cannot merge meta key 'date' types <class 'str'> and <class 'str'>, choosing date='2024-02-16 16:10:21 GMT' [astropy.utils.metadata]\n"
     ]
    },
    {
     "name": "stdout",
     "output_type": "stream",
     "text": [
      "288927\n"
     ]
    },
    {
     "name": "stderr",
     "output_type": "stream",
     "text": [
      "WARNING: Input data contains invalid values (NaNs or infs), which were automatically masked. [photutils.background.background_2d]\n",
      "WARNING: Input data contains invalid values (NaNs or infs), which were automatically masked. [photutils.background.background_2d]\n",
      "WARNING: MergeConflictWarning: Cannot merge meta key 'date' types <class 'str'> and <class 'str'>, choosing date='2024-02-16 16:10:21 GMT' [astropy.utils.metadata]\n"
     ]
    },
    {
     "name": "stdout",
     "output_type": "stream",
     "text": [
      "408881\n"
     ]
    },
    {
     "name": "stderr",
     "output_type": "stream",
     "text": [
      "WARNING: Input data contains invalid values (NaNs or infs), which were automatically masked. [photutils.background.background_2d]\n",
      "WARNING: Input data contains invalid values (NaNs or infs), which were automatically masked. [photutils.background.background_2d]\n"
     ]
    },
    {
     "name": "stdout",
     "output_type": "stream",
     "text": [
      "517795\n"
     ]
    },
    {
     "name": "stderr",
     "output_type": "stream",
     "text": [
      "WARNING: MergeConflictWarning: Cannot merge meta key 'date' types <class 'str'> and <class 'str'>, choosing date='2024-02-16 16:10:21 GMT' [astropy.utils.metadata]\n"
     ]
    }
   ],
   "source": [
    "for i in range(0, 4):\n",
    "    #this loop runs over 4 quadrants of the image with about 100 pixels overlap\n",
    "    bkg = Background2D(filtered_data[cut_x[i]:cut_x2[i],cut_y[i]:cut_y2[i]], (15, 15), #filter_size=(3, 3),\n",
    "                   bkg_estimator=bkg_estimator)\n",
    "    #estimate background in the ring filtered image\n",
    "    bkg_orig = Background2D(flat[cut_x[i]:cut_x2[i],cut_y[i]:cut_y2[i]], (50, 50),\n",
    "                   bkg_estimator=bkg_estimator)\n",
    "    #estimate background in the 20-pixel filtered image\n",
    "    \n",
    "    threshold =threshold_limit * bkg.background_rms\n",
    "    #detection threshold defined as some multiple of background rms image.\n",
    "    \n",
    "    segment_map = detect_sources(filtered_data[cut_x[i]:cut_x2[i],cut_y[i]:cut_y2[i]], threshold, npixels=connected_pixels)#, mask=weight[cut_x[i]:cut_x2[i],cut_y[i]:cut_y2[i]])\n",
    "    #this command detects sources in the ring-filtered image\n",
    "    \n",
    "    cat = SourceCatalog(flat[cut_x[i]:cut_x2[i],cut_y[i]:cut_y2[i]],segment_map,background=bkg_orig.background,wcs=WCS_v7)\n",
    "    \n",
    "    cat2 = SourceCatalog(filtered_data[cut_x[i]:cut_x2[i],cut_y[i]:cut_y2[i]],segment_map,wcs=WCS_v7)\n",
    "  \n",
    "    #two catalogues are created. CAT = parameters from 20-pixel filtered image, CAT2 = parameters from filtered image.\n",
    "    \n",
    "    #making into a catalogue\n",
    "    columns = ['area', 'semimajor_sigma', 'semiminor_sigma','ellipticity', 'elongation']\n",
    "    tbl = cat.to_table(columns=columns)\n",
    "    \n",
    "    columns = ['xcentroid','ycentroid']\n",
    "    tbl2 = cat2.to_table(columns=columns)\n",
    "    #take centroids from filtered images\n",
    "    \n",
    "    #take morpholoigcal/shape parameters from 20-pixel filtered image\n",
    "    tbl2['area']=tbl['area']\n",
    "    tbl2['semimajor_sigma']=tbl['semimajor_sigma']\n",
    "    tbl2['semiminor_sigma']=tbl['semiminor_sigma']\n",
    "    tbl2['FWHM']=2*np.sqrt(np.log(2)*(tbl['semimajor_sigma']*tbl['semimajor_sigma'])+(tbl['semiminor_sigma']*tbl['semiminor_sigma']))\n",
    "    tbl2['ellipticity']=tbl['ellipticity']\n",
    "    tbl2['elongation']=tbl['elongation']\n",
    "    #Put parameters into one table\n",
    "    \n",
    "    \n",
    "    # This part adjusts the centroids in the final catalogue to account for the fact that I had to divide the image into quadrants.\n",
    "    if i == 0: \n",
    "        mask=(tbl2['xcentroid']<21050)\n",
    "        tbl2=tbl2[mask]\n",
    "        mask=(tbl2['ycentroid']<21050)\n",
    "        tbl2=tbl2[mask]\n",
    "        tbl2['xcentroid']+=cut_x[i]\n",
    "        tbl2['ycentroid']+=cut_y[i]\n",
    "        combined_table = tbl2 \n",
    "    if i == 1:\n",
    "        mask=(tbl2['xcentroid']<21050)\n",
    "        tbl2=tbl2[mask]\n",
    "        mask=(tbl2['ycentroid']>50)\n",
    "        tbl2=tbl2[mask]\n",
    "        tbl2['xcentroid']+=cut_y[i]\n",
    "        tbl2['ycentroid']+=cut_x[i]\n",
    "        combined_table = vstack([tbl2, combined_table])\n",
    "    if i == 2:\n",
    "        mask=(tbl2['xcentroid']>50)\n",
    "        tbl2=tbl2[mask]\n",
    "        mask=(tbl2['ycentroid']<21050)\n",
    "        tbl2=tbl2[mask]\n",
    "        tbl2['xcentroid']+=cut_y[i]\n",
    "        tbl2['ycentroid']+=cut_x[i]\n",
    "        combined_table = vstack([tbl2, combined_table])\n",
    "    if i == 3:\n",
    "        mask=(tbl2['xcentroid']>50)\n",
    "        tbl2=tbl2[mask]\n",
    "        mask=(tbl2['ycentroid']>50)\n",
    "        tbl2=tbl2[mask]\n",
    "        tbl2['xcentroid']+=cut_y[i]\n",
    "        tbl2['ycentroid']+=cut_x[i]\n",
    "        combined_table = vstack([tbl2, combined_table])\n",
    "    print(len(combined_table))"
   ]
  },
  {
   "cell_type": "code",
   "execution_count": 14,
   "id": "1bf71bba",
   "metadata": {},
   "outputs": [],
   "source": [
    "#this outputs an ascii file of the compact sources. This was used with ds9 to visually check the compactness parameters\n",
    "positions = np.transpose((combined_table['xcentroid']+1, combined_table['ycentroid']+1))\n",
    "t=Table(positions, names=('x','y'))\n",
    "t.write('all_sources_v7.reg', format='ascii',overwrite=True)"
   ]
  },
  {
   "cell_type": "code",
   "execution_count": 15,
   "id": "4ccd96f9",
   "metadata": {},
   "outputs": [],
   "source": [
    "table=combined_table\n",
    "#relabelled as I combined 2 codes together "
   ]
  },
  {
   "cell_type": "code",
   "execution_count": 11,
   "id": "8781a380",
   "metadata": {},
   "outputs": [],
   "source": [
    "#I read JCC FLAT image to measure photometry.\n",
    "hdul_flat = fits.open('Euclid-VIS-ERO-Perseus-Flattened.v7.fits', memmap=True)\n",
    "flat = hdul_flat[0].data"
   ]
  },
  {
   "cell_type": "code",
   "execution_count": null,
   "id": "c7547dd0",
   "metadata": {},
   "outputs": [],
   "source": [
    "# Here I am running some basic aperture photometry on the filtered and background subtracted LSB images.\n",
    "inner_annulus=7\n",
    "outer_annulus=13\n",
    "aperture_r = 2\n",
    "measure_flux_bkgsub(img_original,table, aperture_r, inner_annulus, outer_annulus,30.,'r2')\n",
    "measure_flux_bkgsub(flat,table, aperture_r, inner_annulus, outer_annulus,30.,'flat_r2')\n",
    "\n",
    "aperture_r = 4\n",
    "measure_flux_bkgsub(img_original,table, aperture_r, inner_annulus, outer_annulus,30.,'r4')\n",
    "measure_flux_bkgsub(flat,table, aperture_r, inner_annulus, outer_annulus,30.,'flat_r4')\n",
    "\n",
    "aperture_r = 5\n",
    "measure_flux_bkgsub(img_original,table, aperture_r, inner_annulus, outer_annulus,30.,'r5')\n",
    "measure_flux_bkgsub(flat,table, aperture_r, inner_annulus, outer_annulus,30.,'flat_r5')\n"
   ]
  },
  {
   "cell_type": "code",
   "execution_count": 36,
   "id": "0dd5b61c",
   "metadata": {},
   "outputs": [],
   "source": [
    "sky = WCS_v7.pixel_to_world(table['xcentroid'], table['ycentroid'])                                        "
   ]
  },
  {
   "cell_type": "code",
   "execution_count": 37,
   "id": "df8be56f",
   "metadata": {},
   "outputs": [],
   "source": [
    "table['RA']=sky.ra\n",
    "table['Dec']=sky.dec"
   ]
  },
  {
   "cell_type": "code",
   "execution_count": 39,
   "id": "81e2e4b7",
   "metadata": {},
   "outputs": [],
   "source": [
    "#write the table to file. These are all the sources\n",
    "table.write('VISv7_all_sources_4Dwarfs.fits', format='fits', overwrite=True)"
   ]
  },
  {
   "cell_type": "code",
   "execution_count": 16,
   "id": "94cb68b7",
   "metadata": {},
   "outputs": [
    {
     "data": {
      "text/plain": [
       "(array([[0., 0., 0., ..., 0., 0., 0.],\n",
       "        [0., 0., 0., ..., 0., 0., 0.],\n",
       "        [0., 0., 0., ..., 0., 0., 0.],\n",
       "        ...,\n",
       "        [0., 0., 0., ..., 0., 0., 0.],\n",
       "        [0., 0., 0., ..., 0., 0., 0.],\n",
       "        [0., 0., 0., ..., 0., 0., 0.]]),\n",
       " array([ 3651.6069443 ,  3819.14819941,  3986.68945452,  4154.23070963,\n",
       "         4321.77196474,  4489.31321985,  4656.85447495,  4824.39573006,\n",
       "         4991.93698517,  5159.47824028,  5327.01949539,  5494.5607505 ,\n",
       "         5662.10200561,  5829.64326071,  5997.18451582,  6164.72577093,\n",
       "         6332.26702604,  6499.80828115,  6667.34953626,  6834.89079136,\n",
       "         7002.43204647,  7169.97330158,  7337.51455669,  7505.0558118 ,\n",
       "         7672.59706691,  7840.13832201,  8007.67957712,  8175.22083223,\n",
       "         8342.76208734,  8510.30334245,  8677.84459756,  8845.38585267,\n",
       "         9012.92710777,  9180.46836288,  9348.00961799,  9515.5508731 ,\n",
       "         9683.09212821,  9850.63338332, 10018.17463842, 10185.71589353,\n",
       "        10353.25714864, 10520.79840375, 10688.33965886, 10855.88091397,\n",
       "        11023.42216907, 11190.96342418, 11358.50467929, 11526.0459344 ,\n",
       "        11693.58718951, 11861.12844462, 12028.66969973, 12196.21095483,\n",
       "        12363.75220994, 12531.29346505, 12698.83472016, 12866.37597527,\n",
       "        13033.91723038, 13201.45848548, 13368.99974059, 13536.5409957 ,\n",
       "        13704.08225081, 13871.62350592, 14039.16476103, 14206.70601613,\n",
       "        14374.24727124, 14541.78852635, 14709.32978146, 14876.87103657,\n",
       "        15044.41229168, 15211.95354679, 15379.49480189, 15547.036057  ,\n",
       "        15714.57731211, 15882.11856722, 16049.65982233, 16217.20107744,\n",
       "        16384.74233254, 16552.28358765, 16719.82484276, 16887.36609787,\n",
       "        17054.90735298, 17222.44860809, 17389.9898632 , 17557.5311183 ,\n",
       "        17725.07237341, 17892.61362852, 18060.15488363, 18227.69613874,\n",
       "        18395.23739385, 18562.77864895, 18730.31990406, 18897.86115917,\n",
       "        19065.40241428, 19232.94366939, 19400.4849245 , 19568.0261796 ,\n",
       "        19735.56743471, 19903.10868982, 20070.64994493, 20238.19120004,\n",
       "        20405.73245515, 20573.27371026, 20740.81496536, 20908.35622047,\n",
       "        21075.89747558, 21243.43873069, 21410.9799858 , 21578.52124091,\n",
       "        21746.06249601, 21913.60375112, 22081.14500623, 22248.68626134,\n",
       "        22416.22751645, 22583.76877156, 22751.31002666, 22918.85128177,\n",
       "        23086.39253688, 23253.93379199, 23421.4750471 , 23589.01630221,\n",
       "        23756.55755732, 23924.09881242, 24091.64006753, 24259.18132264,\n",
       "        24426.72257775, 24594.26383286, 24761.80508797, 24929.34634307,\n",
       "        25096.88759818, 25264.42885329, 25431.9701084 , 25599.51136351,\n",
       "        25767.05261862, 25934.59387373, 26102.13512883, 26269.67638394,\n",
       "        26437.21763905, 26604.75889416, 26772.30014927, 26939.84140438,\n",
       "        27107.38265948, 27274.92391459, 27442.4651697 , 27610.00642481,\n",
       "        27777.54767992, 27945.08893503, 28112.63019013, 28280.17144524,\n",
       "        28447.71270035, 28615.25395546, 28782.79521057, 28950.33646568,\n",
       "        29117.87772079, 29285.41897589, 29452.960231  , 29620.50148611,\n",
       "        29788.04274122, 29955.58399633, 30123.12525144, 30290.66650654,\n",
       "        30458.20776165, 30625.74901676, 30793.29027187, 30960.83152698,\n",
       "        31128.37278209, 31295.91403719, 31463.4552923 , 31630.99654741,\n",
       "        31798.53780252, 31966.07905763, 32133.62031274, 32301.16156785,\n",
       "        32468.70282295, 32636.24407806, 32803.78533317, 32971.32658828,\n",
       "        33138.86784339, 33306.4090985 , 33473.9503536 , 33641.49160871,\n",
       "        33809.03286382, 33976.57411893, 34144.11537404, 34311.65662915,\n",
       "        34479.19788426, 34646.73913936, 34814.28039447, 34981.82164958,\n",
       "        35149.36290469, 35316.9041598 , 35484.44541491, 35651.98667001,\n",
       "        35819.52792512, 35987.06918023, 36154.61043534, 36322.15169045,\n",
       "        36489.69294556, 36657.23420066, 36824.77545577, 36992.31671088,\n",
       "        37159.85796599]),\n",
       " array([ 2808.92923988,  2985.60085771,  3162.27247554,  3338.94409337,\n",
       "         3515.6157112 ,  3692.28732903,  3868.95894686,  4045.63056469,\n",
       "         4222.30218252,  4398.97380034,  4575.64541817,  4752.317036  ,\n",
       "         4928.98865383,  5105.66027166,  5282.33188949,  5459.00350732,\n",
       "         5635.67512515,  5812.34674298,  5989.01836081,  6165.68997864,\n",
       "         6342.36159647,  6519.0332143 ,  6695.70483213,  6872.37644996,\n",
       "         7049.04806779,  7225.71968562,  7402.39130345,  7579.06292128,\n",
       "         7755.73453911,  7932.40615694,  8109.07777477,  8285.7493926 ,\n",
       "         8462.42101043,  8639.09262826,  8815.76424609,  8992.43586392,\n",
       "         9169.10748175,  9345.77909958,  9522.45071741,  9699.12233524,\n",
       "         9875.79395307, 10052.4655709 , 10229.13718873, 10405.80880656,\n",
       "        10582.48042439, 10759.15204222, 10935.82366005, 11112.49527788,\n",
       "        11289.16689571, 11465.83851354, 11642.51013137, 11819.1817492 ,\n",
       "        11995.85336703, 12172.52498486, 12349.19660269, 12525.86822052,\n",
       "        12702.53983835, 12879.21145618, 13055.88307401, 13232.55469184,\n",
       "        13409.22630967, 13585.8979275 , 13762.56954533, 13939.24116316,\n",
       "        14115.91278099, 14292.58439882, 14469.25601665, 14645.92763448,\n",
       "        14822.5992523 , 14999.27087013, 15175.94248796, 15352.61410579,\n",
       "        15529.28572362, 15705.95734145, 15882.62895928, 16059.30057711,\n",
       "        16235.97219494, 16412.64381277, 16589.3154306 , 16765.98704843,\n",
       "        16942.65866626, 17119.33028409, 17296.00190192, 17472.67351975,\n",
       "        17649.34513758, 17826.01675541, 18002.68837324, 18179.35999107,\n",
       "        18356.0316089 , 18532.70322673, 18709.37484456, 18886.04646239,\n",
       "        19062.71808022, 19239.38969805, 19416.06131588, 19592.73293371,\n",
       "        19769.40455154, 19946.07616937, 20122.7477872 , 20299.41940503,\n",
       "        20476.09102286, 20652.76264069, 20829.43425852, 21006.10587635,\n",
       "        21182.77749418, 21359.44911201, 21536.12072984, 21712.79234767,\n",
       "        21889.4639655 , 22066.13558333, 22242.80720116, 22419.47881899,\n",
       "        22596.15043682, 22772.82205465, 22949.49367248, 23126.16529031,\n",
       "        23302.83690814, 23479.50852597, 23656.1801438 , 23832.85176163,\n",
       "        24009.52337946, 24186.19499729, 24362.86661512, 24539.53823295,\n",
       "        24716.20985078, 24892.88146861, 25069.55308644, 25246.22470427,\n",
       "        25422.89632209, 25599.56793992, 25776.23955775, 25952.91117558,\n",
       "        26129.58279341, 26306.25441124, 26482.92602907, 26659.5976469 ,\n",
       "        26836.26926473, 27012.94088256, 27189.61250039, 27366.28411822,\n",
       "        27542.95573605, 27719.62735388, 27896.29897171, 28072.97058954,\n",
       "        28249.64220737, 28426.3138252 , 28602.98544303, 28779.65706086,\n",
       "        28956.32867869, 29133.00029652, 29309.67191435, 29486.34353218,\n",
       "        29663.01515001, 29839.68676784, 30016.35838567, 30193.0300035 ,\n",
       "        30369.70162133, 30546.37323916, 30723.04485699, 30899.71647482,\n",
       "        31076.38809265, 31253.05971048, 31429.73132831, 31606.40294614,\n",
       "        31783.07456397, 31959.7461818 , 32136.41779963, 32313.08941746,\n",
       "        32489.76103529, 32666.43265312, 32843.10427095, 33019.77588878,\n",
       "        33196.44750661, 33373.11912444, 33549.79074227, 33726.4623601 ,\n",
       "        33903.13397793, 34079.80559576, 34256.47721359, 34433.14883142,\n",
       "        34609.82044925, 34786.49206708, 34963.16368491, 35139.83530274,\n",
       "        35316.50692057, 35493.1785384 , 35669.85015623, 35846.52177406,\n",
       "        36023.19339188, 36199.86500971, 36376.53662754, 36553.20824537,\n",
       "        36729.8798632 , 36906.55148103, 37083.22309886, 37259.89471669,\n",
       "        37436.56633452, 37613.23795235, 37789.90957018, 37966.58118801,\n",
       "        38143.25280584]),\n",
       " <matplotlib.collections.QuadMesh at 0x7687944eb0>)"
      ]
     },
     "execution_count": 16,
     "metadata": {},
     "output_type": "execute_result"
    },
    {
     "data": {
      "image/png": "[encoded data removed]",
      "text/plain": [
       "<Figure size 576x612 with 1 Axes>"
      ]
     },
     "metadata": {
      "needs_background": "light"
     },
     "output_type": "display_data"
    }
   ],
   "source": [
    "#This is just a plot of where the compact sources are. Used for debugging and can be ignored. \n",
    "import matplotlib.colors as colors\n",
    "from matplotlib import cm\n",
    "fig, ax = plt.subplots(1, 1, figsize=(8, 8.5))\n",
    "ax.hist2d(table['xcentroid'],table['ycentroid'], bins=200, cmap='twilight', norm=colors.LogNorm(vmin=1, vmax=50))#, vmin=30, vmax=200.5)"
   ]
  }
 ],
 "metadata": {
  "_draft": {
   "nbviewer_url": "https://gist.github.com/bamford/c7ef8f1e7fd78b7ae3b941d93c27e792"
  },
  "gist": {
   "data": {
    "description": "Demo of using a median filter remove extended features to reveal underlying compact sources.",
    "public": false
   },
   "id": "c7ef8f1e7fd78b7ae3b941d93c27e792"
  },
  "hide_input": false,
  "kernelspec": {
   "display_name": "Python 3 (ipykernel)",
   "language": "python",
   "name": "python3"
  },
  "language_info": {
   "codemirror_mode": {
    "name": "ipython",
    "version": 3
   },
   "file_extension": ".py",
   "mimetype": "text/x-python",
   "name": "python",
   "nbconvert_exporter": "python",
   "pygments_lexer": "ipython3",
   "version": "3.9.12"
  },
  "toc": {
   "base_numbering": 1,
   "nav_menu": {},
   "number_sections": true,
   "sideBar": true,
   "skip_h1_title": false,
   "title_cell": "Table of Contents",
   "title_sidebar": "Contents",
   "toc_cell": false,
   "toc_position": {},
   "toc_section_display": true,
   "toc_window_display": false
  }
 },
 "nbformat": 4,
 "nbformat_minor": 5
}
