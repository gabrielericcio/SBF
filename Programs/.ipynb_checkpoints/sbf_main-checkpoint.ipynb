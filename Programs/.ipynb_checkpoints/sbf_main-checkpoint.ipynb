{
 "cells": [
  {
   "cell_type": "code",
   "execution_count": 1,
   "id": "748c5cbe-73dc-468c-bd2a-4e87aae56513",
   "metadata": {},
   "outputs": [],
   "source": [
    "import init\n",
    "import time\n",
    "import sbf_classes_v1 as sbf\n",
    "import numpy as np\n",
    "import sbf_pr_vcc as p_r\n",
    "from astropy.table import Table\n",
    "\n",
    "t0=time.time()\n",
    "# galaxies = ['ic0745','ngc4753','ngc5813','ngc5831','ngc5839']\n",
    "# galaxies = ['vcc1025','vcc0828','vcc1146']\n",
    "galaxies = ['vcc0122']\n",
    "# galaxies = ['vcc1146']\n",
    "# galaxies=['vcc0828']\n",
    "# bands=['i']\n",
    "bands=['g','i']\n",
    "instr=['cfht']\n",
    "\n",
    "################ Query extinction\n",
    "from astroquery.ipac.irsa.irsa_dust import IrsaDust\n",
    "# IrsaDust.clear_cache()\n",
    "R_V={'g': 3.237,'i': 1.684} #CCM value = a(lambda)+b(lambda)/R_v\n",
    "# R_V=[1.684]\n",
    "magzp={'g':30.,'i': 30.}\n",
    "fwhm={'g':0.,'i': 0.}\n",
    "\n",
    "alpha={'g':0.,'i': 0.}\n",
    "#################################\n",
    "# RUN PART 1 OF PROCEDURE : MODEL FITTING AND SUBTRACTION\n",
    "\n",
    "bkg_val={'vcc0828': 2.783, 'vcc1146': 0.163}\n",
    "rms=1 # Weight file is an RMS"
   ]
  },
  {
   "cell_type": "code",
   "execution_count": null,
   "id": "da001575-63b5-4edc-ab0e-7a5d92984c60",
   "metadata": {},
   "outputs": [
    {
     "name": "stdout",
     "output_type": "stream",
     "text": [
      "../INPUT/IMAGES/VCC0122/VCC0122_g.fits\n",
      "Filename: ../INPUT/IMAGES/VCC0122/VCC0122_g.fits\n",
      "No.    Name      Ver    Type      Cards   Dimensions   Format\n",
      "  0  PRIMARY       1 PrimaryHDU     107   (1201, 1201)   float32   \n",
      "Filename: ../INPUT/IMAGES/VCC0122/VCC0122_g_sig.fits\n",
      "No.    Name      Ver    Type      Cards   Dimensions   Format\n",
      "  0  PRIMARY       1 PrimaryHDU      71   (1201, 1201)   float32   \n",
      "Sex_mask is 1\n",
      "LL corner Mean/Median/STD 3sigma (0.17980603873729706, 0.17229792475700378, 0.5630893707275391)\n",
      "LR corner Mean/Median/STD 3sigma (0.29640480875968933, 0.2725692689418793, 1.0250405073165894)\n",
      "UL corner Mean/Median/STD 3sigma (0.2830159068107605, 0.2725791931152344, 0.5614736676216125)\n",
      "UR corner Mean/Median/STD 3sigma (0.25671952962875366, 0.2269081175327301, 1.0831197500228882)\n",
      "MEAN/MEDIAN/STD 3sigma of entire frame: (0.5188140869140625, 0.4194835126399994, 0.8596455454826355)\n",
      "100\n",
      "LL corner Mean/Median/STD 3sigma (0.17980603873729706, 0.17229792475700378, 0.5630893707275391)\n",
      "LR corner Mean/Median/STD 3sigma (0.29640480875968933, 0.2725692689418793, 1.0250405073165894)\n",
      "UL corner Mean/Median/STD 3sigma (0.2830159068107605, 0.2725791931152344, 0.5614736676216125)\n",
      "UR corner Mean/Median/STD 3sigma (0.25671952962875366, 0.2269081175327301, 1.0831197500228882)\n",
      "BACKGROUND SUBTRACTED=0.2497386932373047\n",
      "WARNING: BKG SETUP FOR VCC1146 ONLY\n",
      "GEOMETRY <photutils.isophote.geometry.EllipseGeometry object at 0x1777ee110>\n",
      "ELLIPSE <photutils.isophote.ellipse.Ellipse object at 0x30bf04250>\n"
     ]
    },
    {
     "name": "stderr",
     "output_type": "stream",
     "text": [
      "WARNING: FITSFixedWarning: RADECSYS= 'ICRS ' / Astrometric system \n",
      "the RADECSYS keyword is deprecated, use RADESYSa. [astropy.wcs.wcs]\n",
      "Output catalog ../OUTPUT/VCC0122/VCC0122_g.cat.txt already exists, I will overwrite it\n"
     ]
    },
    {
     "name": "stdout",
     "output_type": "stream",
     "text": [
      "       sma               intens            intens_err      ... niter stop_code\n",
      "                                                           ...                \n",
      "------------------ ------------------ -------------------- ... ----- ---------\n",
      "102.45201830476059   41.5051417892331  0.02552570165792104 ...    10         0\n",
      "112.69722013523665  36.54991944117316 0.022387606219417343 ...    10         0\n",
      "123.96694214876031 31.839197846344163  0.01915583773961146 ...    10         0\n",
      "136.36363636363635 27.191197063084864 0.016928974700882084 ...    10         0\n",
      "             150.0  23.05028701354443 0.016390064339953162 ...    20         0\n",
      "             165.0  18.94072781121533  0.01525769982109118 ...    10         0\n",
      "181.50000000000003 14.795083333131823  0.01474603967067869 ...    10         0\n",
      "199.65000000000003 10.901085836079758 0.013582352411613027 ...    10         0\n",
      "INITIAL galaxy median parameters : SMA0 =   143, PA0 =     5 deg, ellip =  0.41\n",
      "Generating the mask of all extended objects within 5 <=Rgc(arcsec)<= 120  and brighter than  23\n",
      "Number of extended objects detected= 746 , masked= 44\n"
     ]
    },
    {
     "name": "stderr",
     "output_type": "stream",
     "text": [
      "Output catalog ../OUTPUT/VCC0122/VCC0122_g.cat.txt already exists, I will overwrite it\n",
      "Output catalog ../OUTPUT/VCC0122/mback.cat.txt already exists, I will overwrite it\n"
     ]
    },
    {
     "name": "stdout",
     "output_type": "stream",
     "text": [
      "Number of objects chosen to calculate FWHM:  3\n",
      "Too few objects to calculate FWHM\n",
      "Median FWHM= 0.66 +/- 0.09\n",
      "Generating the mask of all compact objects within  5  <=Rgc(arcsec)<= 120  and brighter than  24\n",
      "Number of compact objects detected= 346 , masked= 41\n",
      "Total percentage of pixels masked = 1.9151\n",
      "SExtractor total runtime in seconds :  6.484\n",
      "Fit time in seconds : 29.409\n",
      "FINAL galaxy median parameters : SMA0 =   118, PA0 =     5 deg, ellip =  0.34\n",
      "Building the model\n",
      "Plotting residuals\n",
      "The total run for VCC0122_g took 105.53161191940308 seconds ---\n",
      "FWHM AAAAAA {'g': 0.6638499999999999, 'i': 0.0}\n",
      "The total run for part 2 for VCC0122_g took 1.3668129444122314 seconds ---\n",
      "../INPUT/IMAGES/VCC0122/VCC0122_i.fits\n",
      "Filename: ../INPUT/IMAGES/VCC0122/VCC0122_i.fits\n",
      "No.    Name      Ver    Type      Cards   Dimensions   Format\n",
      "  0  PRIMARY       1 PrimaryHDU     107   (1201, 1201)   float32   \n",
      "Filename: ../INPUT/IMAGES/VCC0122/VCC0122_i_sig.fits\n",
      "No.    Name      Ver    Type      Cards   Dimensions   Format\n",
      "  0  PRIMARY       1 PrimaryHDU      71   (1201, 1201)   float32   \n",
      "Sex_mask is 1\n",
      "LL corner Mean/Median/STD 3sigma (1.2033145427703857, 1.1866689920425415, 2.230912923812866)\n",
      "LR corner Mean/Median/STD 3sigma (0.9355981349945068, 0.9584370851516724, 3.841294765472412)\n",
      "UL corner Mean/Median/STD 3sigma (1.121360421180725, 1.1268632411956787, 2.26767635345459)\n",
      "UR corner Mean/Median/STD 3sigma (1.0529108047485352, 1.1062544584274292, 4.2905988693237305)\n",
      "MEAN/MEDIAN/STD 3sigma of entire frame: (1.861523151397705, 1.659362554550171, 2.938678503036499)\n",
      "100\n",
      "LL corner Mean/Median/STD 3sigma (1.2033145427703857, 1.1866689920425415, 2.230912923812866)\n",
      "LR corner Mean/Median/STD 3sigma (0.9355981349945068, 0.9584370851516724, 3.841294765472412)\n",
      "UL corner Mean/Median/STD 3sigma (1.121360421180725, 1.1268632411956787, 2.26767635345459)\n",
      "UR corner Mean/Median/STD 3sigma (1.0529108047485352, 1.1062544584274292, 4.2905988693237305)\n",
      "BACKGROUND SUBTRACTED=1.116558849811554\n",
      "WARNING: BKG SETUP FOR VCC1146 ONLY\n",
      "GEOMETRY <photutils.isophote.geometry.EllipseGeometry object at 0x30dff6a90>\n",
      "ELLIPSE <photutils.isophote.ellipse.Ellipse object at 0x30dff7c90>\n"
     ]
    },
    {
     "name": "stderr",
     "output_type": "stream",
     "text": [
      "Output catalog ../OUTPUT/VCC0122/VCC0122_i.cat.txt already exists, I will overwrite it\n"
     ]
    },
    {
     "name": "stdout",
     "output_type": "stream",
     "text": [
      "       sma               intens            intens_err     ... niter stop_code\n",
      "                                                          ...                \n",
      "------------------ ------------------ ------------------- ... ----- ---------\n",
      "102.45201830476059 102.42771169575407 0.07922416690410616 ...    10         0\n",
      "112.69722013523665  89.47288239817348 0.07937315920565854 ...    10         0\n",
      "123.96694214876031  78.25693727784551 0.07163089838236039 ...    10         0\n",
      "136.36363636363635  67.04991934365025 0.06191190191069962 ...    10         0\n",
      "             150.0  56.47744947908543 0.07223059508037927 ...    20         0\n",
      "             165.0 46.356420851763296 0.06068893336480363 ...    10         0\n",
      "181.50000000000003  35.75228237910441 0.06000368855022435 ...    10         0\n",
      "199.65000000000003  26.05380249178459 0.04723897432881965 ...    10         0\n",
      "INITIAL galaxy median parameters : SMA0 =   143, PA0 =     5 deg, ellip =  0.41\n",
      "Generating the mask of all extended objects within 5 <=Rgc(arcsec)<= 120  and brighter than  23\n",
      "Number of extended objects detected= 400 , masked= 131\n"
     ]
    },
    {
     "name": "stderr",
     "output_type": "stream",
     "text": [
      "Output catalog ../OUTPUT/VCC0122/VCC0122_i.cat.txt already exists, I will overwrite it\n",
      "Output catalog ../OUTPUT/VCC0122/mback.cat.txt already exists, I will overwrite it\n"
     ]
    },
    {
     "name": "stdout",
     "output_type": "stream",
     "text": [
      "Number of objects chosen to calculate FWHM:  8\n",
      "Too few objects to calculate FWHM\n",
      "Median FWHM= 0.60 +/- 0.10\n",
      "Generating the mask of all compact objects within  5  <=Rgc(arcsec)<= 120  and brighter than  24\n",
      "Number of compact objects detected= 212 , masked= 50\n",
      "Total percentage of pixels masked = 1.6875\n",
      "SExtractor total runtime in seconds :  7.101\n",
      "Fit time in seconds : 30.002\n",
      "FINAL galaxy median parameters : SMA0 =   118, PA0 =     5 deg, ellip =  0.37\n",
      "Building the model\n"
     ]
    }
   ],
   "source": [
    "for i in range(len(galaxies)) :\n",
    "    \n",
    "    for j in range(len(bands)) :\n",
    "        galaxy=galaxies[i]\n",
    "        passband=bands[j]\n",
    "        # print(R_V[bands[j]])\n",
    "        gxy=galaxy+'_'+passband\n",
    "        instrname=instr[0]+'_galinit'\n",
    "        init_instr= getattr(init,instrname)\n",
    "        init_instr(galaxy,passband)# instrument specific params\n",
    "        init.default() # default for all galaxies\n",
    "        init_spec = getattr(init, gxy) #specific initialisation for each galaxy\n",
    "        init_spec()\n",
    "        fwhm[bands[j]]=sbf.run_part1(rms=rms, remove_bkg=True) #IS BUILDING MODEL NOW\n",
    "        #FWHM IS UPDATED CORRECTLY ONLY WHEN PART 1 IS RUN\n",
    "        print('FWHM AAAAAA', fwhm)\n",
    "        sbf.run_part2(alpha[bands[j]])"
   ]
  },
  {
   "cell_type": "code",
   "execution_count": null,
   "id": "eb8d7b7b-78dd-4bf1-bc66-e19f45e0a797",
   "metadata": {},
   "outputs": [],
   "source": [
    "for i in range(len(galaxies)) :\n",
    "    table=IrsaDust.get_query_table(galaxies[i],section='ebv')\n",
    "        \n",
    "    E_BV=table['ext SandF mean']   \n",
    "        \n",
    "    A=[(R_V[band]*E_BV.value) for band in bands]\n",
    "    print(A)\n",
    "        #####\n",
    "    \n",
    "        # fwhm=[0.61,0.48] # KEEP ONLY WHEN NOT RUNNING PART 1\n",
    "        #VCC1025:\n",
    "    fwhm={'g':0.83,'i': 0.58} # KEEP ONLY WHEN NOT RUNNING PART 1\n",
    "       \n",
    "        #VCC0828:\n",
    "        # fwhm={'g':0.79,'i': 0.57} # KEEP ONLY WHEN NOT RUNNING PART 1\n",
    "    \n",
    "        #VCC1146:\n",
    "        # fwhm={'g':0.89,'i': 0.72} # KEEP ONLY WHEN NOT RUNNING PART 1\n",
    "    \n",
    "        # print(fwhm) \n",
    "        #### PARAMS FOR APER_CORR\n",
    "    match_scale=1.2\n",
    "    threshold=35\n",
    "    csmin=0.8\n",
    "        # mbright=19\n",
    "        # mfaint=22\n",
    "    match_scale=1.2 #scaling factor to be multiplied to mean FWHM in order to match band catalogs\n",
    "    \n",
    "        #### PARAMS FOR EPSF\n",
    "    cscut= 0.6#0.95 #both bands: for generating PSF\n",
    "    mbright= 18#16 HSC\n",
    "    mfaint= 20#21 #20.5 HSC\n",
    "        # cilow=0.25 NOT USED\n",
    "        # cihigh=0.75 NOT USED\n",
    "    \n",
    "    sbf.run_part3(galaxies[i],bands[0],bands[1],A[0],A[1],\n",
    "                      magzp[bands[0]],magzp[bands[1]],fwhm[bands[0]],fwhm[bands[1]],\n",
    "                      match_scale,csmin,mfaint,mbright,threshold)"
   ]
  },
  {
   "cell_type": "code",
   "execution_count": null,
   "id": "2255f109-27d2-484c-a043-a119d9ef1d93",
   "metadata": {},
   "outputs": [],
   "source": [
    "for i in range(len(galaxies)):\n",
    "    sbf.run_part4(galaxies[i],bands[0],bands[1],magzp[bands[0]],magzp[bands[1]],\n",
    "                    fwhm[bands[0]],fwhm[bands[1]], A[1])\n",
    "    "
   ]
  },
  {
   "cell_type": "code",
   "execution_count": null,
   "id": "d1c501b3-06bd-4172-a7fb-13c6a09bf41d",
   "metadata": {},
   "outputs": [],
   "source": [
    "## PSF Modelling:\n",
    "for i in range(len(galaxies)):\n",
    "    psf_rad_scale=3 # 5 FOR HSC.#4*plate_scale\n",
    "    nthfactor=20 # nth neighbor selection radius= nthfactor*rad_asec\n",
    "    rgc_factor=40\n",
    "\n",
    "    psfsize=64\n",
    "    oversampling=4\n",
    "    sbf.run_part5(galaxies[i],bands[0],bands[1],A[0],A[1],magzp[bands[0]],\n",
    "                    magzp[bands[1]],fwhm[bands[0]],fwhm[bands[1]],\n",
    "                    mfaint,mbright,threshold,cscut,psf_rad_scale,nthfactor,\n",
    "                    psfsize,oversampling,rgc_factor)"
   ]
  },
  {
   "cell_type": "code",
   "execution_count": null,
   "id": "e584b607-d572-4092-afb9-29908f1d41f1",
   "metadata": {},
   "outputs": [],
   "source": [
    "for i in range(len(galaxies)):\n",
    "# sbf.find_annuli(galaxies[i],bands[0],bands[1])\n",
    "\n",
    "        \n",
    "    # MASKING ANNULUS: Inner and outer radii--- in pix\n",
    "    #VCC1025:\n",
    "    #ORIGINAL    \n",
    "    #in_rad=np.array([36,54,90,162,306,36,36])#*0.187#0.00187 # degrees 36 pix   0.0084 #\n",
    "    #out_rad=np.array([54,90,162,306,594,600,300])#*0.187#0.0156 #0.0159 # cannulus 4 162 to 306 pix # degrees 300 pix : cannulus7 from Mik\n",
    "    in_rad=np.array([236,254,290,162,306,36,36])#*0.187#0.00187 # degrees 36 pix   0.0084 #\n",
    "    out_rad=np.array([354,390,362,306,594,600,300])#*0.187#0.0156 #0.0159 # cannulus 4 162 to 306 pix # degrees 300 pix : cannulus7 from Mik\n",
    "\n",
    "    #VCC0828:\n",
    "    # in_rad=np.array([85,95,115,155,235,85,85])#*0.187#0.00187 # degrees 36 pix   0.0084 #\n",
    "    # out_rad=np.array([95,115,155,235,395,385,235])#*0.187#0.0156 #0.0159 # cannulus 4 162 to 306 pix # degrees 300 pix : cannulus7 from Mik\n",
    "    # in_rad=np.array([85,85])*0.187#0.00187 # degrees 36 pix   0.0084 #\n",
    "    # out_rad=np.array([385,235])*0.187#0.0156 #0.0159 # cannulus 4 162 to 306 pix # degrees 300 pix : cannulus7 from Mik\n",
    "\n",
    "    #VCC1146:\n",
    "    # in_rad=np.array([40,62,106,194,370,40,40])\n",
    "    # out_rad=np.array([62,106,194,370,722,740,420])\n",
    "\n",
    "    cutout_size=1536\n",
    "\n",
    "\n",
    "    sbf.run_pr_cat(galaxies[i],bands[0],bands[1],magzp[bands[0]],magzp[bands[1]],\n",
    "                    fwhm[bands[0]],fwhm[bands[1]], cutout_size, csmin,mfaint,mbright,threshold)\n"
   ]
  },
  {
   "cell_type": "code",
   "execution_count": null,
   "id": "3e0e6a8e-42db-4531-bfb4-c8df60892b40",
   "metadata": {},
   "outputs": [],
   "source": []
  }
 ],
 "metadata": {
  "kernelspec": {
   "display_name": "Python 3 (ipykernel)",
   "language": "python",
   "name": "python3"
  },
  "language_info": {
   "codemirror_mode": {
    "name": "ipython",
    "version": 3
   },
   "file_extension": ".py",
   "mimetype": "text/x-python",
   "name": "python",
   "nbconvert_exporter": "python",
   "pygments_lexer": "ipython3",
   "version": "3.11.7"
  }
 },
 "nbformat": 4,
 "nbformat_minor": 5
}
